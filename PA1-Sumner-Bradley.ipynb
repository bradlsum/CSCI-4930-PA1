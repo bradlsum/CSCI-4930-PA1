{
 "cells": [
  {
   "cell_type": "markdown",
   "metadata": {},
   "source": [
    "# Programming Assignment 1\n",
    "* CSCI-4930 Spring 2019\n",
    "* Author: Sumner Bradley"
   ]
  },
  {
   "cell_type": "markdown",
   "metadata": {},
   "source": [
    "## Tasks for everyone (Tasks 1-15)"
   ]
  },
  {
   "cell_type": "markdown",
   "metadata": {},
   "source": [
    "### TASK 1: Import all the necessary packages here\n"
   ]
  },
  {
   "cell_type": "code",
   "execution_count": 12,
   "metadata": {},
   "outputs": [],
   "source": [
    "import csv\n",
    "import numpy as np\n",
    "import sklearn as sk\n",
    "import pandas as pd\n",
    "import matplotlib.pyplot as plt\n",
    "\n",
    "from scipy.stats import kurtosis, skew\n",
    "from sklearn.feature_selection import SelectKBest\n",
    "from sklearn.feature_selection import chi2\n",
    "from sklearn.model_selection import train_test_split\n",
    "from sklearn import preprocessing"
   ]
  },
  {
   "cell_type": "markdown",
   "metadata": {},
   "source": [
    "### TASK 2: Load the dataset into memory so that you can play with it here"
   ]
  },
  {
   "cell_type": "code",
   "execution_count": 13,
   "metadata": {},
   "outputs": [
    {
     "name": "stdout",
     "output_type": "stream",
     "text": [
      "     ID  SEX  MARITAL  FAGE  GAINED  VISITS  MAGE  FEDUC  MEDUC  TOTALP  ...  \\\n",
      "0  2001    2        1    33      26      10    34     12      4       2  ...   \n",
      "1  2002    2        2    19      40      10    18     11     12       1  ...   \n",
      "2  2003    2        1    33      16      14    31     16     16       2  ...   \n",
      "3  2004    1        1    25      40      15    28     12     12       3  ...   \n",
      "4  2005    1        2    21      60      13    20     12     14       2  ...   \n",
      "\n",
      "   HYPERCH  HYPERPR  ECLAMP  CERVIX  PINFANT  PRETERM RENAL RHSEN  UTERINE  \\\n",
      "0        0        0       0       0        0        0     0     0        0   \n",
      "1        0        0       0       0        0        0     0     0        0   \n",
      "2        0        0       0       0        0        0     0     0        0   \n",
      "3        0        0       0       0        0        0     0     0        0   \n",
      "4        0        1       0       0        0        0     0     0        0   \n",
      "\n",
      "   BWEIGHT  \n",
      "0   4.3750  \n",
      "1   6.9375  \n",
      "2   8.5000  \n",
      "3   8.5000  \n",
      "4   9.0000  \n",
      "\n",
      "[5 rows x 37 columns]\n"
     ]
    }
   ],
   "source": [
    "file = pd.read_csv('baby-weights-dataset2.csv')\n",
    "\n",
    "weights = file['BWEIGHT']\n",
    "print(file.head())"
   ]
  },
  {
   "cell_type": "markdown",
   "metadata": {},
   "source": [
    "### TASK 3: Compute mean, stdev, min, max, 25% percentile, median and 75% percentile of the dataset (BWEIGHT variable)"
   ]
  },
  {
   "cell_type": "code",
   "execution_count": 14,
   "metadata": {},
   "outputs": [
    {
     "name": "stdout",
     "output_type": "stream",
     "text": [
      "Max = 13.0625\n",
      "Min = 0.1875\n",
      "StDev = 1.3294541253578183\n",
      "25% = 6.625\n",
      "Median = 7.375\n",
      "75% = 8.0625\n"
     ]
    }
   ],
   "source": [
    "print(\"Max =\", np.amax(weights))\n",
    "\n",
    "print(\"Min =\", np.min(weights))\n",
    "\n",
    "print(\"StDev =\", np.std(weights))\n",
    "\n",
    "print(\"25% =\", np.percentile(weights, 25))\n",
    "\n",
    "print(\"Median =\", np.median(weights))\n",
    "\n",
    "print(\"75% =\", np.percentile(weights, 75))"
   ]
  },
  {
   "cell_type": "markdown",
   "metadata": {},
   "source": [
    "### TASK 4: Also, draw the histogram plot for the BWEIGHT variable\n"
   ]
  },
  {
   "cell_type": "code",
   "execution_count": 15,
   "metadata": {},
   "outputs": [
    {
     "data": {
      "image/png": "[encoded data removed]",
      "text/plain": [
       "<Figure size 432x288 with 1 Axes>"
      ]
     },
     "metadata": {},
     "output_type": "display_data"
    }
   ],
   "source": [
    "plt.hist(weights,bins=\"auto\")\n",
    "plt.title(\"Histogram of Baby Weights\")\n",
    "plt.show()"
   ]
  },
  {
   "cell_type": "markdown",
   "metadata": {},
   "source": [
    "### TASK 5: Present the skewness and kurtosis of the BWEIGHT target variable"
   ]
  },
  {
   "cell_type": "code",
   "execution_count": 16,
   "metadata": {},
   "outputs": [
    {
     "name": "stdout",
     "output_type": "stream",
     "text": [
      "Skew = -0.9365796191651633\n",
      "Kurtosis = 2.868579195051929\n"
     ]
    }
   ],
   "source": [
    "print(\"Skew =\", skew(weights))\n",
    "\n",
    "print(\"Kurtosis =\", kurtosis(weights))"
   ]
  },
  {
   "cell_type": "markdown",
   "metadata": {},
   "source": [
    "### TASK 6: Do variable selection from the pool of 124 variables based on correlation score with the target variable BWEIGHT \n",
    "### Please report all the variables you kept for training."
   ]
  },
  {
   "cell_type": "code",
   "execution_count": 141,
   "metadata": {},
   "outputs": [
    {
     "name": "stdout",
     "output_type": "stream",
     "text": [
      "BWEIGHT      1.000000\n",
      "WEEKS        0.565376\n",
      "GAINED       0.173262\n",
      "VISITS       0.129587\n",
      "MAGE         0.068473\n",
      "PINFANT      0.067073\n",
      "MEDUC        0.055908\n",
      "FEDUC        0.052673\n",
      "FAGE         0.051447\n",
      "HISPMOM_M    0.031405\n",
      "HISPDAD_M    0.024415\n",
      "DIABETES     0.010216\n",
      "TOTALP       0.003201\n",
      "ID           0.003001\n",
      "HISPMOM_S    0.002801\n",
      "RHSEN        0.001985\n",
      "HERPES       0.001442\n",
      "HISPDAD_S    0.000731\n",
      "CARDIAC     -0.000425\n",
      "HISPMOM_O   -0.000463\n",
      "HISPMOM_U   -0.002477\n",
      "HISPDAD_O   -0.002750\n",
      "HISPDAD_C   -0.003446\n",
      "HISPMOM_C   -0.003486\n",
      "ACLUNG      -0.006643\n",
      "RENAL       -0.007734\n",
      "HISPDAD_U   -0.008848\n",
      "DRINKNUM    -0.010207\n",
      "HISPDAD_P   -0.010593\n",
      "HEMOGLOB    -0.010994\n",
      "ANEMIA      -0.011487\n",
      "HISPMOM_P   -0.015643\n",
      "HISPDAD_N   -0.017442\n",
      "HISPMOM_N   -0.023649\n",
      "TERMS       -0.026878\n",
      "BDEAD       -0.036611\n",
      "LOUTCOME    -0.037264\n",
      "UTERINE     -0.042741\n",
      "HYPERCH     -0.043561\n",
      "HYDRAM      -0.050001\n",
      "CERVIX      -0.066935\n",
      "ECLAMP      -0.068073\n",
      "PRETERM     -0.072932\n",
      "RACEMOM     -0.079893\n",
      "RACEDAD     -0.084056\n",
      "CIGNUM      -0.090670\n",
      "SEX         -0.093440\n",
      "MARITAL     -0.107106\n",
      "HYPERPR     -0.108541\n",
      "Name: BWEIGHT, dtype: float64\n",
      "[4, 5, 6, 7, 8, 9, 10, 11, 12, 13, 14, 15, 16, 17, 18, 19, 20, 21, 22, 23, 24, 25, 26, 27, 28, 29, 30, 31, 32, 33, 34, 35, 36, 37, 38, 39, 40, 41, 42, 43, 44, 45, 46]\n"
     ]
    }
   ],
   "source": [
    "relation = []\n",
    "core = file.corr()['BWEIGHT'].sort_values(ascending = False)\n",
    "\n",
    "print(core)\n",
    "\n",
    "for i in range(0, len(core) - 1):\n",
    "    if abs(core[i]) < 0.1:\n",
    "        core[i]\n",
    "        relation.append(i)\n",
    "\n",
    "print(relation)"
   ]
  },
  {
   "cell_type": "markdown",
   "metadata": {},
   "source": [
    "### TASK 7: Check for missing data, and apply a \"good\" strategy to tackle it"
   ]
  },
  {
   "cell_type": "code",
   "execution_count": 20,
   "metadata": {},
   "outputs": [
    {
     "data": {
      "text/plain": [
       "ID           0\n",
       "SEX          0\n",
       "MARITAL      0\n",
       "FAGE         0\n",
       "GAINED       0\n",
       "VISITS       0\n",
       "MAGE         0\n",
       "FEDUC        0\n",
       "MEDUC        0\n",
       "TOTALP       0\n",
       "BDEAD        0\n",
       "TERMS        0\n",
       "LOUTCOME     0\n",
       "WEEKS        0\n",
       "RACEMOM      0\n",
       "RACEDAD      0\n",
       "CIGNUM       0\n",
       "DRINKNUM     0\n",
       "ANEMIA       0\n",
       "CARDIAC      0\n",
       "ACLUNG       0\n",
       "DIABETES     0\n",
       "HERPES       0\n",
       "HYDRAM       0\n",
       "HEMOGLOB     0\n",
       "HYPERCH      0\n",
       "HYPERPR      0\n",
       "ECLAMP       0\n",
       "CERVIX       0\n",
       "PINFANT      0\n",
       "PRETERM      0\n",
       "RENAL        0\n",
       "RHSEN        0\n",
       "UTERINE      0\n",
       "BWEIGHT      0\n",
       "HISPMOM_C    0\n",
       "HISPMOM_M    0\n",
       "HISPMOM_N    0\n",
       "HISPMOM_O    0\n",
       "HISPMOM_P    0\n",
       "HISPMOM_S    0\n",
       "HISPMOM_U    0\n",
       "HISPDAD_C    0\n",
       "HISPDAD_M    0\n",
       "HISPDAD_N    0\n",
       "HISPDAD_O    0\n",
       "HISPDAD_P    0\n",
       "HISPDAD_S    0\n",
       "HISPDAD_U    0\n",
       "dtype: int64"
      ]
     },
     "execution_count": 20,
     "metadata": {},
     "output_type": "execute_result"
    }
   ],
   "source": [
    "file.isnull().sum()\n",
    "\n",
    "# file = file.replace(0, np.NaN)\n",
    "# file.head()"
   ]
  },
  {
   "cell_type": "markdown",
   "metadata": {},
   "source": [
    "### TASK 8: Tackle the dummy categorical variables by introducing dummy variables"
   ]
  },
  {
   "cell_type": "code",
   "execution_count": 18,
   "metadata": {
    "scrolled": true
   },
   "outputs": [
    {
     "data": {
      "text/html": [
       "<div>\n",
       "<style scoped>\n",
       "    .dataframe tbody tr th:only-of-type {\n",
       "        vertical-align: middle;\n",
       "    }\n",
       "\n",
       "    .dataframe tbody tr th {\n",
       "        vertical-align: top;\n",
       "    }\n",
       "\n",
       "    .dataframe thead th {\n",
       "        text-align: right;\n",
       "    }\n",
       "</style>\n",
       "<table border=\"1\" class=\"dataframe\">\n",
       "  <thead>\n",
       "    <tr style=\"text-align: right;\">\n",
       "      <th></th>\n",
       "      <th>ID</th>\n",
       "      <th>SEX</th>\n",
       "      <th>MARITAL</th>\n",
       "      <th>FAGE</th>\n",
       "      <th>GAINED</th>\n",
       "      <th>VISITS</th>\n",
       "      <th>MAGE</th>\n",
       "      <th>FEDUC</th>\n",
       "      <th>MEDUC</th>\n",
       "      <th>TOTALP</th>\n",
       "      <th>...</th>\n",
       "      <th>HISPMOM_P</th>\n",
       "      <th>HISPMOM_S</th>\n",
       "      <th>HISPMOM_U</th>\n",
       "      <th>HISPDAD_C</th>\n",
       "      <th>HISPDAD_M</th>\n",
       "      <th>HISPDAD_N</th>\n",
       "      <th>HISPDAD_O</th>\n",
       "      <th>HISPDAD_P</th>\n",
       "      <th>HISPDAD_S</th>\n",
       "      <th>HISPDAD_U</th>\n",
       "    </tr>\n",
       "  </thead>\n",
       "  <tbody>\n",
       "    <tr>\n",
       "      <th>0</th>\n",
       "      <td>2001</td>\n",
       "      <td>2</td>\n",
       "      <td>1</td>\n",
       "      <td>33</td>\n",
       "      <td>26</td>\n",
       "      <td>10</td>\n",
       "      <td>34</td>\n",
       "      <td>12</td>\n",
       "      <td>4</td>\n",
       "      <td>2</td>\n",
       "      <td>...</td>\n",
       "      <td>0</td>\n",
       "      <td>0</td>\n",
       "      <td>0</td>\n",
       "      <td>0</td>\n",
       "      <td>1</td>\n",
       "      <td>0</td>\n",
       "      <td>0</td>\n",
       "      <td>0</td>\n",
       "      <td>0</td>\n",
       "      <td>0</td>\n",
       "    </tr>\n",
       "    <tr>\n",
       "      <th>1</th>\n",
       "      <td>2002</td>\n",
       "      <td>2</td>\n",
       "      <td>2</td>\n",
       "      <td>19</td>\n",
       "      <td>40</td>\n",
       "      <td>10</td>\n",
       "      <td>18</td>\n",
       "      <td>11</td>\n",
       "      <td>12</td>\n",
       "      <td>1</td>\n",
       "      <td>...</td>\n",
       "      <td>0</td>\n",
       "      <td>0</td>\n",
       "      <td>0</td>\n",
       "      <td>0</td>\n",
       "      <td>0</td>\n",
       "      <td>1</td>\n",
       "      <td>0</td>\n",
       "      <td>0</td>\n",
       "      <td>0</td>\n",
       "      <td>0</td>\n",
       "    </tr>\n",
       "    <tr>\n",
       "      <th>2</th>\n",
       "      <td>2003</td>\n",
       "      <td>2</td>\n",
       "      <td>1</td>\n",
       "      <td>33</td>\n",
       "      <td>16</td>\n",
       "      <td>14</td>\n",
       "      <td>31</td>\n",
       "      <td>16</td>\n",
       "      <td>16</td>\n",
       "      <td>2</td>\n",
       "      <td>...</td>\n",
       "      <td>0</td>\n",
       "      <td>0</td>\n",
       "      <td>0</td>\n",
       "      <td>0</td>\n",
       "      <td>0</td>\n",
       "      <td>1</td>\n",
       "      <td>0</td>\n",
       "      <td>0</td>\n",
       "      <td>0</td>\n",
       "      <td>0</td>\n",
       "    </tr>\n",
       "    <tr>\n",
       "      <th>3</th>\n",
       "      <td>2004</td>\n",
       "      <td>1</td>\n",
       "      <td>1</td>\n",
       "      <td>25</td>\n",
       "      <td>40</td>\n",
       "      <td>15</td>\n",
       "      <td>28</td>\n",
       "      <td>12</td>\n",
       "      <td>12</td>\n",
       "      <td>3</td>\n",
       "      <td>...</td>\n",
       "      <td>0</td>\n",
       "      <td>0</td>\n",
       "      <td>0</td>\n",
       "      <td>0</td>\n",
       "      <td>0</td>\n",
       "      <td>1</td>\n",
       "      <td>0</td>\n",
       "      <td>0</td>\n",
       "      <td>0</td>\n",
       "      <td>0</td>\n",
       "    </tr>\n",
       "    <tr>\n",
       "      <th>4</th>\n",
       "      <td>2005</td>\n",
       "      <td>1</td>\n",
       "      <td>2</td>\n",
       "      <td>21</td>\n",
       "      <td>60</td>\n",
       "      <td>13</td>\n",
       "      <td>20</td>\n",
       "      <td>12</td>\n",
       "      <td>14</td>\n",
       "      <td>2</td>\n",
       "      <td>...</td>\n",
       "      <td>0</td>\n",
       "      <td>0</td>\n",
       "      <td>0</td>\n",
       "      <td>0</td>\n",
       "      <td>0</td>\n",
       "      <td>1</td>\n",
       "      <td>0</td>\n",
       "      <td>0</td>\n",
       "      <td>0</td>\n",
       "      <td>0</td>\n",
       "    </tr>\n",
       "  </tbody>\n",
       "</table>\n",
       "<p>5 rows × 49 columns</p>\n",
       "</div>"
      ],
      "text/plain": [
       "     ID  SEX  MARITAL  FAGE  GAINED  VISITS  MAGE  FEDUC  MEDUC  TOTALP  ...  \\\n",
       "0  2001    2        1    33      26      10    34     12      4       2  ...   \n",
       "1  2002    2        2    19      40      10    18     11     12       1  ...   \n",
       "2  2003    2        1    33      16      14    31     16     16       2  ...   \n",
       "3  2004    1        1    25      40      15    28     12     12       3  ...   \n",
       "4  2005    1        2    21      60      13    20     12     14       2  ...   \n",
       "\n",
       "   HISPMOM_P  HISPMOM_S  HISPMOM_U  HISPDAD_C  HISPDAD_M  HISPDAD_N  \\\n",
       "0          0          0          0          0          1          0   \n",
       "1          0          0          0          0          0          1   \n",
       "2          0          0          0          0          0          1   \n",
       "3          0          0          0          0          0          1   \n",
       "4          0          0          0          0          0          1   \n",
       "\n",
       "   HISPDAD_O  HISPDAD_P  HISPDAD_S  HISPDAD_U  \n",
       "0          0          0          0          0  \n",
       "1          0          0          0          0  \n",
       "2          0          0          0          0  \n",
       "3          0          0          0          0  \n",
       "4          0          0          0          0  \n",
       "\n",
       "[5 rows x 49 columns]"
      ]
     },
     "execution_count": 18,
     "metadata": {},
     "output_type": "execute_result"
    }
   ],
   "source": [
    "file = pd.get_dummies(file)\n",
    "file.head()"
   ]
  },
  {
   "cell_type": "markdown",
   "metadata": {},
   "source": [
    "### TASK 9.1: Randomly split the dataset into training, Tr (80%) and testing, Te (20%)"
   ]
  },
  {
   "cell_type": "code",
   "execution_count": 21,
   "metadata": {},
   "outputs": [
    {
     "name": "stdout",
     "output_type": "stream",
     "text": [
      "Training set size: 81120\n",
      "Testing set size: 20280\n"
     ]
    }
   ],
   "source": [
    "x_train,x_test = train_test_split(file,test_size=0.2) \n",
    "print(\"Training set size:\", len(x_train))\n",
    "print(\"Testing set size:\", len(x_test))"
   ]
  },
  {
   "cell_type": "markdown",
   "metadata": {},
   "source": [
    "### TASK 9.2: On the training dataset, apply a normalization technique"
   ]
  },
  {
   "cell_type": "code",
   "execution_count": 22,
   "metadata": {},
   "outputs": [
    {
     "name": "stderr",
     "output_type": "stream",
     "text": [
      "/home/sumner/.local/lib/python3.6/site-packages/sklearn/preprocessing/data.py:625: DataConversionWarning: Data with input dtype uint8, int64, float64 were all converted to float64 by StandardScaler.\n",
      "  return self.partial_fit(X, y)\n",
      "/home/sumner/.local/lib/python3.6/site-packages/sklearn/base.py:462: DataConversionWarning: Data with input dtype uint8, int64, float64 were all converted to float64 by StandardScaler.\n",
      "  return self.fit(X, **fit_params).transform(X)\n"
     ]
    },
    {
     "name": "stdout",
     "output_type": "stream",
     "text": [
      "MIN = -8.296944781286946\n",
      "MAX = 180.2355624968186\n",
      "MEAN = 3.9682551903802034e-17\n"
     ]
    }
   ],
   "source": [
    "scaler = preprocessing.StandardScaler()\n",
    "x_train = scaler.fit_transform(x_train)\n",
    "\n",
    "print(\"MIN =\", x_train.min())\n",
    "print(\"MAX =\", x_train.max())\n",
    "print(\"MEAN =\", x_train.mean())"
   ]
  },
  {
   "cell_type": "markdown",
   "metadata": {},
   "source": [
    "### TASK 9.3: Apply the training data statistics to normalize the testing data as well."
   ]
  },
  {
   "cell_type": "code",
   "execution_count": 23,
   "metadata": {},
   "outputs": [
    {
     "name": "stdout",
     "output_type": "stream",
     "text": [
      "MIN = -8.296944781286946\n",
      "MAX = 63.06558346775776\n",
      "MEAN = -0.0001662646519356581\n"
     ]
    },
    {
     "name": "stderr",
     "output_type": "stream",
     "text": [
      "/usr/lib/python3/dist-packages/ipykernel_launcher.py:1: DataConversionWarning: Data with input dtype uint8, int64, float64 were all converted to float64 by StandardScaler.\n",
      "  \"\"\"Entry point for launching an IPython kernel.\n"
     ]
    }
   ],
   "source": [
    "x_test = scaler.transform(x_test)\n",
    "\n",
    "print(\"MIN =\", x_test.min())\n",
    "print(\"MAX =\", x_test.max())\n",
    "print(\"MEAN =\", x_test.mean())"
   ]
  },
  {
   "cell_type": "markdown",
   "metadata": {},
   "source": [
    "### TASK 10: Find the linear regression function describing the training dataset using a technique you recently learned in class.  CLOSED-FORM vs. Gradient Descent (batch or stochastic or mini-batch).\n",
    "###          PLEASE DO NOT CALL ANY LIBRARY FUNCTION THAT MIGHT DO THE TASK FOR YOU. If you do, you are most likely get a ZERO for this assignment."
   ]
  },
  {
   "cell_type": "code",
   "execution_count": null,
   "metadata": {},
   "outputs": [],
   "source": [
    "coeffs = np.linalg.inv(scaler_X_train.transpose().dot(X_train)).dot(scaler_X_train.transpose()).dot(y_train)\n",
    "print(coeffs)"
   ]
  },
  {
   "cell_type": "markdown",
   "metadata": {},
   "source": [
    "### Task 11: Predict BWEIGHT target variable for each of the testing dataset using the regression line you learned in Task 10, and report RMSE(testing) (Root Mean Squared Error)"
   ]
  },
  {
   "cell_type": "code",
   "execution_count": null,
   "metadata": {},
   "outputs": [],
   "source": []
  },
  {
   "cell_type": "markdown",
   "metadata": {},
   "source": [
    "### Repeat TASK 10 additional four times : Run linear regression training again\n",
    "### After each run, Report RMSE(testing)\n"
   ]
  },
  {
   "cell_type": "code",
   "execution_count": null,
   "metadata": {},
   "outputs": [],
   "source": []
  },
  {
   "cell_type": "markdown",
   "metadata": {},
   "source": [
    "### Task 12: Finally, Report RMSE(testing) = Average(RMSE_test) $\\pm$ Stdev(RMSE_test)\n",
    "### Here Average(RMSE_test) = average of all the 5 RMSE(testing) scores you got above.\n",
    "### And, stdev(RMSE_test) = standard deviation of all the 5 RMSE(testing) scores above."
   ]
  },
  {
   "cell_type": "code",
   "execution_count": null,
   "metadata": {},
   "outputs": [],
   "source": []
  },
  {
   "cell_type": "markdown",
   "metadata": {},
   "source": [
    "### Task 13: Run linear regression one last time on the whole dataset  (i.e, training+testing which is preprocessed by you above)."
   ]
  },
  {
   "cell_type": "code",
   "execution_count": null,
   "metadata": {},
   "outputs": [],
   "source": []
  },
  {
   "cell_type": "markdown",
   "metadata": {},
   "source": [
    "### Task 14: Preprocess the judge-without-label.csv file according টo the strategy you applied above on the whole dataset (task 13)"
   ]
  },
  {
   "cell_type": "code",
   "execution_count": null,
   "metadata": {},
   "outputs": [],
   "source": []
  },
  {
   "cell_type": "markdown",
   "metadata": {},
   "source": [
    "### Task 15: Predict BWEIGHT for each of the samples from the judge-without-label.csv file, and save the results in judge-submission-run-1.csv in the format below. Please change the run number and report what changes you have made in a corresponding file run-1.txt."
   ]
  },
  {
   "cell_type": "code",
   "execution_count": null,
   "metadata": {},
   "outputs": [],
   "source": []
  },
  {
   "cell_type": "markdown",
   "metadata": {},
   "source": [
    "# Tasks only for CSCI-5930 (Grad) students"
   ]
  },
  {
   "cell_type": "markdown",
   "metadata": {},
   "source": [
    "### Task 16: Repeat tasks 9-12 three times, and report the ultimate RMSE_test average $\\pm$ ultimate RMSE_test stdev"
   ]
  },
  {
   "cell_type": "code",
   "execution_count": null,
   "metadata": {},
   "outputs": [],
   "source": []
  },
  {
   "cell_type": "markdown",
   "metadata": {},
   "source": [
    "### Task 17: Make an entry in the Kaggle challenge [https://www.kaggle.com/c/csci-ml-s19-pa1/] by joining and submitting the judge-submission-run1.csv file, and please report your Kaggle handle here too.\n",
    "### There is limit of 5 entries each day untile the deadline.\n",
    "### For each of the runs you submit, please report here the RMSE you got (as reported by the Kaggle platform)."
   ]
  },
  {
   "cell_type": "code",
   "execution_count": null,
   "metadata": {},
   "outputs": [],
   "source": []
  }
 ],
 "metadata": {
  "kernelspec": {
   "display_name": "Python 3",
   "language": "python",
   "name": "python3"
  },
  "varInspector": {
   "cols": {
    "lenName": 16,
    "lenType": 16,
    "lenVar": 40
   },
   "kernels_config": {
    "python": {
     "delete_cmd_postfix": "",
     "delete_cmd_prefix": "del ",
     "library": "var_list.py",
     "varRefreshCmd": "print(var_dic_list())"
    },
    "r": {
     "delete_cmd_postfix": ") ",
     "delete_cmd_prefix": "rm(",
     "library": "var_list.r",
     "varRefreshCmd": "cat(var_dic_list()) "
    }
   },
   "types_to_exclude": [
    "module",
    "function",
    "builtin_function_or_method",
    "instance",
    "_Feature"
   ],
   "window_display": false
  }
 },
 "nbformat": 4,
 "nbformat_minor": 2
}
